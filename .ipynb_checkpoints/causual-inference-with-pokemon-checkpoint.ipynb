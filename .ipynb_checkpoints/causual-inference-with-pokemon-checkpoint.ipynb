{
 "cells": [
  {
   "cell_type": "code",
   "execution_count": 1,
   "metadata": {},
   "outputs": [],
   "source": [
    "from typing import Optional, Tuple\n",
    "\n",
    "import numpy as np\n",
    "import pandas as pd\n",
    "import matplotlib.pyplot as plt\n",
    "import seaborn as sns; sns.set(context='notebook', style='whitegrid')"
   ]
  },
  {
   "cell_type": "markdown",
   "metadata": {},
   "source": [
    "# ポケモンで因果推論\n",
    "\n",
    "## 1. 背景\n",
    "東大にいる友人のNA氏がこないだ面白いブログを紹介してくれた。テーマはなんとあのポケモンで因果推論をしようというもの。自分もちょうど半年以上統計学を学んで、これから入ろうと思っていたゼミのために[「計量経済学の第一歩」](https://www.amazon.co.jp/計量経済学の第一歩-実証分析のススメ-有斐閣ストゥディア-田中/dp/4641150281)を読んでいたので、楽しく知識の整理するのにピッタリのブログだった。自分の統計学とプログラミングに関する知識を利用してさらに発展させるのが目標である。\n",
    "\n",
    "## 2. 問題設定\n",
    "以下[「ポケモンを題材に因果推論を実践してみる」](https://tepppei.hatenablog.com/entry/2020/05/05/113514)から引用している：\n",
    "\n",
    "今は昔、モンスターボールしか存在せず、スーパーボールが世の中で出回り始めたばかりの頃、オーキド博士が「スーパーボールは本当にモンスターボールより捕まえやすいのか？」という仮説を検証しようとしています。\n",
    "そこでオーキド博士は世界中のトレーナーたちからデータを収集し、下記のような100件のデータを収集することができました。"
   ]
  },
  {
   "cell_type": "markdown",
   "metadata": {},
   "source": [
    "## 3. データの生成\n",
    "\n",
    "### 捕獲アルゴリズム\n",
    "日本のオタク文化はすごいというか、ポケモンボールを投げた時にポケモンが獲得できるかどうかの仕組みがしっかりと研究されている。しかも世代ごとに。[「ポケモンWiki獲得処理」](https://wiki.ポケモン.com/wiki/捕獲処理)をもとにデータ生成をPython行っていく。ざっくりまとめると以下の様なアルゴリズムらしい。\n",
    "\n",
    "1. **マスターボール**を使用した場合、自動的に捕獲成功となり以下の処理は無視される。\n",
    "\n",
    "\n",
    "2. **モンスターボール**を使用した場合、0~255の乱数を生成する。この乱数を$R_1$とする。\n",
    "\n",
    "\n",
    "3. $R_1 - X_{status}$(乱数 - 状態補正[※1])を計算する。$R_1-X_{status}$が0以下の場合は捕獲成功。ポケモンそれぞれが持つ被捕獲度$X_{capture}$[※2]より低いが0以上の場合、さらに0~255の乱数$R_2$を発生。\n",
    "\n",
    "\n",
    "4. $R_2 < F$[※3]以下のとき、獲得成功。$F$より大きいとき、獲得失敗。\n",
    "\n",
    "※1 状態補正$X_{status}$とは捕獲を試みるポケモンのねむり、こおり、まひ、やけど、どく等の状態異常にかかっているときの補正度合いのことを指している。ねむり・こおりの場合25、まひ・やけど・どくの場合12である。\n",
    "\n",
    "※2 $X_{capture}$はポケモンのレア度にボールによる補正をかけた値である。最大値は255である。\n",
    "* モンスターボール：$X_{capture}$ = $X_{rarity}$\n",
    "* スーパーボール: $X_{capture} = 1.5X_{rarity}$\n",
    "* ハイパーボール: $X_{capture} = 2X_{rarity}$\n",
    "\n",
    "※3 $F = \\frac{255 \\times MaxHP}{4 \\times BallCoef \\times HP}$ \n",
    "* $BallCoef$：スーパーボールの場合8、それ以外の場合12。\n",
    "\n",
    "\n",
    "### ポケモンのステータス\n",
    "それでは早速Pythonでモンスターボールとポケモンを実装して、捕まえに行こう！と思ったけど、待てポケモンのレア度ってどうやって計算するの？最大HP、モンスターボールを投げた時のHPは？状態異常は？あれ、あれ、あれ？と色々考えなければいけない事があると気づいたのでさらに調査...。\n",
    "\n",
    "1. ポケモンのレア度は[ポケモンWiki](https://wiki.ポケモン.com/wiki/捕捉率)に有ったので第二世代までのデータ(フシギダネからセレブィまで)スクレーピングした。\n",
    "\n",
    "\n",
    "2. ポケモンの最大HPはどうやら次の様に決まってくるらしい。\n",
    "\n",
    "$$2 \\times \\left((X_{race} + X_{indiv})+X_{work}\\right) \\times \\frac{X_{level}}{100} + X_{level} + 10$$\n",
    "\n",
    "\n",
    "* ここで$X_{race}$は種族値、$X_{indiv}$は個体値、$X_{work}$は努力値のことを意味する。つまり、最大HPは種族、個体、努力、定数とし、レベルを変数とした一次関数ですね。そしてポケモンの世界において努力は決して遺伝に勝てないことも式から見えてきた。なんて残酷な世界だ...(ちなみに第三世代以降さらに残酷な設定になっている)。\n",
    "\n",
    "\n",
    "* 種族値のデータもまたポケモンWikiで見つかったのでそれもスクレーピングしてきた。レア度とは別のcsvファイルに書き込んでRelational Databaseを作る(カッコイイから単語を使いたかっただけ)。\n",
    "\n",
    "\n",
    "* HPの個体値に関しては、どうやら色々細かい設定があるらしいが、とりあえず0~15の値をとるらしいので一様分布でランダムに生成することに。\n",
    "\n",
    "\n",
    "* 努力レベルはポケモンを捕まえた後に増えていくものなので無視してよい。\n",
    "\n",
    "\n",
    "* ポケモンのレベルの扱いはもう少し複雑になってくる。ポケモンを遊んだことがある人はわかると思うが、ゲーム序盤に出てくるポケモンのレベルは低くて、ゲームを進めていくにつれレベルが上昇していく。どこかの攻略本に野生ポケモンのレベルについて書かれてそうだが、俺もそれを全て集めてくるほど暇人では無いので(じゃあこのブログはなんなんだよ)、とりあえずここは**ポケモンのレベルは$\\mu=36, \\sigma=12$の標準分布に従うと仮定**する。というのも、経験上野生のポケモンはレベル5~59くらいで、この様な標準分布を使えばそれなりに良い感じのシミュレーションができるのではないかと思ったからだ。だからData Scientistはドメイン知識が重要なのです(ちがう)。\n",
    "\n",
    "\n",
    "3. モンスターボールを投げた時のポケモンのHPは時と場合によって大きく変わってくる。弱いポケモンはHPを減らさなくても簡単に捕まるが、強いポケモンはHPを減らしてからボールを投げるのが捕獲の鉄則になっている。これに関しては本当に統計データがないとモデリングできないが、そんなデータ転がってるわけが無いので、諦めて**1~最大HPまでの一様分布に従うと仮定する**。\n",
    "\n",
    "\n",
    "4. モンスターボールを投げた時、ポケモンが状態異常かどうかもまた色々と仮定をしなければいけない。自分はめんどくさがり屋なので状態異常とかに頼らずモンスターボールの数でゴリ押しするスタイルだが、人によってはちゃんと催眠術をかけて眠らせたり、電気ショックで麻痺らせたり、冷たいビームで凍らせたり、毒をもったり(ポケモンも大変だな...)して捕獲しやすくしている。取り合えず**5分の1の確率でなんらかの状態異常にかかっていると仮定**する。\n",
    "\n",
    "これらのことを反映させるよう実装を進めていく。"
   ]
  },
  {
   "cell_type": "markdown",
   "metadata": {},
   "source": [
    "### 実装\n",
    "#### ポケモン"
   ]
  },
  {
   "cell_type": "code",
   "execution_count": 2,
   "metadata": {},
   "outputs": [],
   "source": [
    "class Pokemon:\n",
    "    def __init__(self,\n",
    "                 _id: str,\n",
    "                 name: str,\n",
    "                 rarity: int,\n",
    "                 race: int\n",
    "                ) -> None:\n",
    "        self._state_mapper = dict(\n",
    "            asleep=25,\n",
    "            freeze=25,\n",
    "            burn=12,\n",
    "            paralysis=12,\n",
    "            poison=12,\n",
    "            normal=0\n",
    "        )\n",
    "        self.id = _id\n",
    "        self.name = name\n",
    "        self.rarity = rarity\n",
    "        self.race = race\n",
    "        self.state = get_state()\n",
    "        self.level = get_level()\n",
    "        self.hp_max = np.round(2*(self.race + np.random.randint(0, 15))*self.level/100 + self.level + 10)\n",
    "    \n",
    "    def set_hp(self):\n",
    "        self.hp = self.hp_max - np.random.randint(0, self.hp_max)\n",
    "        \n",
    "    def get_state_adjustment(self) -> int:\n",
    "        return self._state_mapper[self.state]"
   ]
  },
  {
   "cell_type": "markdown",
   "metadata": {},
   "source": [
    "#### モンスターボール"
   ]
  },
  {
   "cell_type": "code",
   "execution_count": 3,
   "metadata": {},
   "outputs": [],
   "source": [
    "class Ball:\n",
    "    def __init__(self, ball_type: str) -> None:\n",
    "        '''\n",
    "        ball_type: monster, super, or hyper\n",
    "        '''\n",
    "        self._rand_var_upper_bounds = {\n",
    "            'monster': 256,\n",
    "            'super': 201,\n",
    "            'hyper': 151\n",
    "        }\n",
    "        self._ball_coef_map = {\n",
    "            'monster': 12,\n",
    "            'super': 8,\n",
    "            'hyper': 12\n",
    "        }\n",
    "        self._rarity_coef_map = {\n",
    "            'monster': 1,\n",
    "            'super': 1.5,\n",
    "            'hyper': 2.0\n",
    "        }\n",
    "        self.ball_type = ball_type\n",
    "    \n",
    "    def get_random_variable(self) -> int:\n",
    "        u_bound = self._rand_var_upper_bounds[self.ball_type]\n",
    "        return np.random.randint(0, u_bound)\n",
    "    \n",
    "    def get_coefficient(self) -> int:\n",
    "        return self._ball_coef_map[self.ball_type]\n",
    "    \n",
    "    def get_rarity_coefficient(self, rarity) -> int:\n",
    "        r_coef = self._rarity_coef_map[self.ball_type] * rarity\n",
    "        if r_coef <= 255:\n",
    "            return r_coef\n",
    "        return 255"
   ]
  },
  {
   "cell_type": "markdown",
   "metadata": {},
   "source": [
    "#### 捕獲に使うボールの数を計算する関数"
   ]
  },
  {
   "cell_type": "code",
   "execution_count": 4,
   "metadata": {},
   "outputs": [],
   "source": [
    "def _calculate_f_value(ball: Ball, pokemon: Pokemon) -> int:\n",
    "    numerator = int(pokemon.hp_max * 255 / ball.get_coefficient())\n",
    "    denominator = int(pokemon.hp / 4)\n",
    "    f_value = numerator / denominator if denominator > 0 else numerator\n",
    "    return min(255, f_value)"
   ]
  },
  {
   "cell_type": "code",
   "execution_count": 5,
   "metadata": {},
   "outputs": [],
   "source": [
    "def judge_capture(ball: Ball, pokemon: Pokemon) -> bool:\n",
    "    \n",
    "    pokemon.set_hp()\n",
    "    \n",
    "    if ball.ball_type == 'master':\n",
    "        return True\n",
    "    \n",
    "    first_rand_var = ball.get_random_variable() - pokemon.get_state_adjustment()\n",
    "    if first_rand_var < 0:\n",
    "        return True\n",
    "    if first_rand_var > ball.get_rarity_coefficient(pokemon.rarity):\n",
    "        return False\n",
    "    \n",
    "    second_rand_var = np.random.randint(0, 256)\n",
    "    if second_rand_var <= _calculate_f_value(ball, pokemon):\n",
    "        return True\n",
    "    return False"
   ]
  },
  {
   "cell_type": "code",
   "execution_count": 6,
   "metadata": {},
   "outputs": [],
   "source": [
    "def count_thrown_balls(ball: Ball, pokemon: Pokemon) -> int:\n",
    "\n",
    "    def f(n: int) -> int:\n",
    "        if judge_capture(ball=ball, pokemon=pokemon):\n",
    "            return n\n",
    "        return f(n + 1)\n",
    "\n",
    "    return f(1)"
   ]
  },
  {
   "cell_type": "markdown",
   "metadata": {},
   "source": [
    "#### レベルと状態異常をセットする関数\n",
    "* `get_level`: ポケモンのレベルを標準分布から算出\n",
    "* `get_state`: ポケモンの状態異常を1/5の確率で発生"
   ]
  },
  {
   "cell_type": "code",
   "execution_count": 7,
   "metadata": {},
   "outputs": [],
   "source": [
    "def get_level(mu = 36, sigma = 12):\n",
    "    n = np.random.normal(mu, sigma)\n",
    "    if n < 5:\n",
    "        return 5\n",
    "    elif n > 100:\n",
    "        return 100\n",
    "    else:\n",
    "        return np.round(n)"
   ]
  },
  {
   "cell_type": "code",
   "execution_count": 8,
   "metadata": {},
   "outputs": [],
   "source": [
    "def get_state():\n",
    "    states = ['asleep', 'freeze', 'burn', 'paralysis', 'poison']\n",
    "    if np.random.randint(1, 6) == 1:\n",
    "        return np.random.choice(states, 1)[0]\n",
    "    else: return 'normal'"
   ]
  },
  {
   "cell_type": "markdown",
   "metadata": {},
   "source": [
    "#### 使うボールを決める\n",
    "ポケモンの「珍しさ」は3から255までである。数値が小さいほど珍しいということを意味する。ポケモンのレベルは1から100までである。\n",
    "ポケモンが珍しいほどまたポケモンのレベルが高いほど人はモンスターボールよりスーパーボールを使うという仮定である。これをうまく反映させたい。[「ポケモンを題材に因果推論を実践してみる」](https://tepppei.hatenablog.com/entry/2020/05/05/113514)のソースコードを覗いて見た結果、ベルヌーイ分布のパラメーター$p$を以下の様にモデリングしている。$$p = \\frac{255}{245} - \\frac{C_{rarity}}{245}$$\n",
    "私はレベルのことも考慮したいので$p$を以下の様に定義することにする。\n",
    "$$p = 1 - \\frac{1}{255}C_{rarity}-\\frac{1}{100}(100-Level) + \\frac{1}{255*100}C_{rarity}(100-Level)$$"
   ]
  },
  {
   "cell_type": "code",
   "execution_count": 9,
   "metadata": {},
   "outputs": [],
   "source": [
    "def decide_ball(rarity: int, level: int) -> Ball:\n",
    "    p = 1 + 1/(255*100) * rarity * (100 - level) - rarity / 255 - (100 - level) / 100 + 1e-7\n",
    "    if p < 0: \n",
    "        print(rarity, level, p)\n",
    "    if np.random.binomial(1, p):\n",
    "        return Ball(ball_type='super')\n",
    "    return Ball(ball_type='monster')"
   ]
  },
  {
   "cell_type": "markdown",
   "metadata": {},
   "source": [
    "#### ポケモンデータ\n",
    "ポケモンWikiからスクレーピングしてきたレア度および種族値をまとめた。"
   ]
  },
  {
   "cell_type": "code",
   "execution_count": 10,
   "metadata": {},
   "outputs": [
    {
     "data": {
      "text/html": [
       "<div>\n",
       "<style scoped>\n",
       "    .dataframe tbody tr th:only-of-type {\n",
       "        vertical-align: middle;\n",
       "    }\n",
       "\n",
       "    .dataframe tbody tr th {\n",
       "        vertical-align: top;\n",
       "    }\n",
       "\n",
       "    .dataframe thead th {\n",
       "        text-align: right;\n",
       "    }\n",
       "</style>\n",
       "<table border=\"1\" class=\"dataframe\">\n",
       "  <thead>\n",
       "    <tr style=\"text-align: right;\">\n",
       "      <th></th>\n",
       "      <th>id</th>\n",
       "      <th>name</th>\n",
       "      <th>rarity</th>\n",
       "      <th>hp</th>\n",
       "      <th>attack</th>\n",
       "      <th>defence</th>\n",
       "      <th>special_attack</th>\n",
       "      <th>special_defence</th>\n",
       "      <th>speed</th>\n",
       "      <th>total</th>\n",
       "    </tr>\n",
       "  </thead>\n",
       "  <tbody>\n",
       "    <tr>\n",
       "      <th>0</th>\n",
       "      <td>1</td>\n",
       "      <td>フシギダネ</td>\n",
       "      <td>45</td>\n",
       "      <td>45</td>\n",
       "      <td>49</td>\n",
       "      <td>49</td>\n",
       "      <td>65</td>\n",
       "      <td>65</td>\n",
       "      <td>45</td>\n",
       "      <td>318</td>\n",
       "    </tr>\n",
       "    <tr>\n",
       "      <th>1</th>\n",
       "      <td>2</td>\n",
       "      <td>フシギソウ</td>\n",
       "      <td>45</td>\n",
       "      <td>60</td>\n",
       "      <td>62</td>\n",
       "      <td>63</td>\n",
       "      <td>80</td>\n",
       "      <td>80</td>\n",
       "      <td>60</td>\n",
       "      <td>405</td>\n",
       "    </tr>\n",
       "    <tr>\n",
       "      <th>2</th>\n",
       "      <td>3</td>\n",
       "      <td>フシギバナ</td>\n",
       "      <td>45</td>\n",
       "      <td>80</td>\n",
       "      <td>82</td>\n",
       "      <td>83</td>\n",
       "      <td>100</td>\n",
       "      <td>100</td>\n",
       "      <td>80</td>\n",
       "      <td>525</td>\n",
       "    </tr>\n",
       "    <tr>\n",
       "      <th>3</th>\n",
       "      <td>4</td>\n",
       "      <td>ヒトカゲ</td>\n",
       "      <td>45</td>\n",
       "      <td>39</td>\n",
       "      <td>52</td>\n",
       "      <td>43</td>\n",
       "      <td>60</td>\n",
       "      <td>50</td>\n",
       "      <td>65</td>\n",
       "      <td>309</td>\n",
       "    </tr>\n",
       "    <tr>\n",
       "      <th>4</th>\n",
       "      <td>5</td>\n",
       "      <td>リザード</td>\n",
       "      <td>45</td>\n",
       "      <td>58</td>\n",
       "      <td>64</td>\n",
       "      <td>58</td>\n",
       "      <td>80</td>\n",
       "      <td>65</td>\n",
       "      <td>80</td>\n",
       "      <td>405</td>\n",
       "    </tr>\n",
       "    <tr>\n",
       "      <th>...</th>\n",
       "      <td>...</td>\n",
       "      <td>...</td>\n",
       "      <td>...</td>\n",
       "      <td>...</td>\n",
       "      <td>...</td>\n",
       "      <td>...</td>\n",
       "      <td>...</td>\n",
       "      <td>...</td>\n",
       "      <td>...</td>\n",
       "      <td>...</td>\n",
       "    </tr>\n",
       "    <tr>\n",
       "      <th>246</th>\n",
       "      <td>247</td>\n",
       "      <td>サナギラス</td>\n",
       "      <td>45</td>\n",
       "      <td>70</td>\n",
       "      <td>84</td>\n",
       "      <td>70</td>\n",
       "      <td>65</td>\n",
       "      <td>70</td>\n",
       "      <td>51</td>\n",
       "      <td>410</td>\n",
       "    </tr>\n",
       "    <tr>\n",
       "      <th>247</th>\n",
       "      <td>248</td>\n",
       "      <td>バンギラス</td>\n",
       "      <td>45</td>\n",
       "      <td>100</td>\n",
       "      <td>134</td>\n",
       "      <td>110</td>\n",
       "      <td>95</td>\n",
       "      <td>100</td>\n",
       "      <td>61</td>\n",
       "      <td>600</td>\n",
       "    </tr>\n",
       "    <tr>\n",
       "      <th>248</th>\n",
       "      <td>249</td>\n",
       "      <td>ルギア</td>\n",
       "      <td>3</td>\n",
       "      <td>106</td>\n",
       "      <td>90</td>\n",
       "      <td>130</td>\n",
       "      <td>90</td>\n",
       "      <td>154</td>\n",
       "      <td>110</td>\n",
       "      <td>680</td>\n",
       "    </tr>\n",
       "    <tr>\n",
       "      <th>249</th>\n",
       "      <td>250</td>\n",
       "      <td>ホウオウ</td>\n",
       "      <td>3</td>\n",
       "      <td>106</td>\n",
       "      <td>130</td>\n",
       "      <td>90</td>\n",
       "      <td>110</td>\n",
       "      <td>154</td>\n",
       "      <td>90</td>\n",
       "      <td>680</td>\n",
       "    </tr>\n",
       "    <tr>\n",
       "      <th>250</th>\n",
       "      <td>251</td>\n",
       "      <td>セレビィ</td>\n",
       "      <td>45</td>\n",
       "      <td>100</td>\n",
       "      <td>100</td>\n",
       "      <td>100</td>\n",
       "      <td>100</td>\n",
       "      <td>100</td>\n",
       "      <td>100</td>\n",
       "      <td>600</td>\n",
       "    </tr>\n",
       "  </tbody>\n",
       "</table>\n",
       "<p>251 rows × 10 columns</p>\n",
       "</div>"
      ],
      "text/plain": [
       "      id   name  rarity   hp  attack  defence  special_attack  \\\n",
       "0      1  フシギダネ      45   45      49       49              65   \n",
       "1      2  フシギソウ      45   60      62       63              80   \n",
       "2      3  フシギバナ      45   80      82       83             100   \n",
       "3      4   ヒトカゲ      45   39      52       43              60   \n",
       "4      5   リザード      45   58      64       58              80   \n",
       "..   ...    ...     ...  ...     ...      ...             ...   \n",
       "246  247  サナギラス      45   70      84       70              65   \n",
       "247  248  バンギラス      45  100     134      110              95   \n",
       "248  249    ルギア       3  106      90      130              90   \n",
       "249  250   ホウオウ       3  106     130       90             110   \n",
       "250  251   セレビィ      45  100     100      100             100   \n",
       "\n",
       "     special_defence  speed  total  \n",
       "0                 65     45    318  \n",
       "1                 80     60    405  \n",
       "2                100     80    525  \n",
       "3                 50     65    309  \n",
       "4                 65     80    405  \n",
       "..               ...    ...    ...  \n",
       "246               70     51    410  \n",
       "247              100     61    600  \n",
       "248              154    110    680  \n",
       "249              154     90    680  \n",
       "250              100    100    600  \n",
       "\n",
       "[251 rows x 10 columns]"
      ]
     },
     "execution_count": 10,
     "metadata": {},
     "output_type": "execute_result"
    }
   ],
   "source": [
    "df_rarity = pd.read_csv('./data/pokemon/rarity.csv')\n",
    "df_race = pd.read_csv('./data/pokemon/race.csv')\n",
    "df_stats = pd.merge(df_rarity, df_race, 'left', on='id')\n",
    "df_stats"
   ]
  },
  {
   "cell_type": "markdown",
   "metadata": {},
   "source": [
    "### シミュレーション\n",
    "意外と長くなってしまったが準備が整ったのでシミュレーションに入ろうと思う。色々と条件を複雑にしたため、「100回で果たして足りるのかしら...」と心配になりとりあえず、1000回まわそう！って思った。\n",
    "\n",
    "**Python Technical Note**: \n",
    "* `pandas.DataFrame` has a `sample` method. Random sampling with and without replacement from a DataFrame can be done using this method.\n",
    "\n",
    "* `pandas.Series.key` will return a `pandas.Series` if we want the value, use the `item` method."
   ]
  },
  {
   "cell_type": "code",
   "execution_count": 11,
   "metadata": {},
   "outputs": [],
   "source": [
    "def simulate_capture(n_samples):\n",
    "    \"\"\"\n",
    "    Simulates the number of monster balls needed for the capture of a randomly selected Pokemon.\n",
    "    \"\"\"\n",
    "    data = []\n",
    "    for i in range(n_samples):\n",
    "        pkmon_stats = df_stats.sample(n=1)\n",
    "        pokemon = Pokemon(pkmon_stats.id.item(), \n",
    "                          pkmon_stats.name.item(),\n",
    "                          pkmon_stats.rarity.item(),\n",
    "                          pkmon_stats.hp.item())\n",
    "        ball = decide_ball(pokemon.rarity, pokemon.level)\n",
    "        n_balls = count_thrown_balls(ball, pokemon)\n",
    "        data.append([pokemon.id, \n",
    "                     pokemon.name, \n",
    "                     pokemon.rarity,\n",
    "                     pokemon.hp_max, \n",
    "                     pokemon.hp,\n",
    "                     pokemon.level, \n",
    "                     pokemon.state,\n",
    "                     ball.ball_type,\n",
    "                     n_balls\n",
    "                    ])\n",
    "    return pd.DataFrame(data, columns=['id', 'name', 'rarity', 'hp_max', 'hp', 'level', 'state', 'ball', 'n_balls'])"
   ]
  },
  {
   "cell_type": "code",
   "execution_count": 12,
   "metadata": {},
   "outputs": [],
   "source": [
    "df = simulate_capture(1000)"
   ]
  },
  {
   "cell_type": "markdown",
   "metadata": {},
   "source": [
    "### 生成されたデータ"
   ]
  },
  {
   "cell_type": "code",
   "execution_count": 13,
   "metadata": {},
   "outputs": [
    {
     "data": {
      "text/html": [
       "<div>\n",
       "<style scoped>\n",
       "    .dataframe tbody tr th:only-of-type {\n",
       "        vertical-align: middle;\n",
       "    }\n",
       "\n",
       "    .dataframe tbody tr th {\n",
       "        vertical-align: top;\n",
       "    }\n",
       "\n",
       "    .dataframe thead th {\n",
       "        text-align: right;\n",
       "    }\n",
       "</style>\n",
       "<table border=\"1\" class=\"dataframe\">\n",
       "  <thead>\n",
       "    <tr style=\"text-align: right;\">\n",
       "      <th></th>\n",
       "      <th>id</th>\n",
       "      <th>name</th>\n",
       "      <th>rarity</th>\n",
       "      <th>hp_max</th>\n",
       "      <th>hp</th>\n",
       "      <th>level</th>\n",
       "      <th>state</th>\n",
       "      <th>ball</th>\n",
       "      <th>n_balls</th>\n",
       "    </tr>\n",
       "  </thead>\n",
       "  <tbody>\n",
       "    <tr>\n",
       "      <th>0</th>\n",
       "      <td>205</td>\n",
       "      <td>フォレトス</td>\n",
       "      <td>75</td>\n",
       "      <td>90.0</td>\n",
       "      <td>53.0</td>\n",
       "      <td>29.0</td>\n",
       "      <td>normal</td>\n",
       "      <td>super</td>\n",
       "      <td>3</td>\n",
       "    </tr>\n",
       "    <tr>\n",
       "      <th>1</th>\n",
       "      <td>217</td>\n",
       "      <td>リングマ</td>\n",
       "      <td>60</td>\n",
       "      <td>80.0</td>\n",
       "      <td>44.0</td>\n",
       "      <td>23.0</td>\n",
       "      <td>normal</td>\n",
       "      <td>monster</td>\n",
       "      <td>4</td>\n",
       "    </tr>\n",
       "    <tr>\n",
       "      <th>2</th>\n",
       "      <td>219</td>\n",
       "      <td>マグカルゴ</td>\n",
       "      <td>75</td>\n",
       "      <td>162.0</td>\n",
       "      <td>60.0</td>\n",
       "      <td>68.0</td>\n",
       "      <td>normal</td>\n",
       "      <td>monster</td>\n",
       "      <td>2</td>\n",
       "    </tr>\n",
       "    <tr>\n",
       "      <th>3</th>\n",
       "      <td>120</td>\n",
       "      <td>ヒトデマン</td>\n",
       "      <td>225</td>\n",
       "      <td>70.0</td>\n",
       "      <td>44.0</td>\n",
       "      <td>32.0</td>\n",
       "      <td>burn</td>\n",
       "      <td>monster</td>\n",
       "      <td>2</td>\n",
       "    </tr>\n",
       "    <tr>\n",
       "      <th>4</th>\n",
       "      <td>224</td>\n",
       "      <td>オクタン</td>\n",
       "      <td>75</td>\n",
       "      <td>86.0</td>\n",
       "      <td>31.0</td>\n",
       "      <td>30.0</td>\n",
       "      <td>normal</td>\n",
       "      <td>monster</td>\n",
       "      <td>2</td>\n",
       "    </tr>\n",
       "    <tr>\n",
       "      <th>...</th>\n",
       "      <td>...</td>\n",
       "      <td>...</td>\n",
       "      <td>...</td>\n",
       "      <td>...</td>\n",
       "      <td>...</td>\n",
       "      <td>...</td>\n",
       "      <td>...</td>\n",
       "      <td>...</td>\n",
       "      <td>...</td>\n",
       "    </tr>\n",
       "    <tr>\n",
       "      <th>995</th>\n",
       "      <td>185</td>\n",
       "      <td>ウソッキー</td>\n",
       "      <td>65</td>\n",
       "      <td>108.0</td>\n",
       "      <td>17.0</td>\n",
       "      <td>38.0</td>\n",
       "      <td>freeze</td>\n",
       "      <td>monster</td>\n",
       "      <td>5</td>\n",
       "    </tr>\n",
       "    <tr>\n",
       "      <th>996</th>\n",
       "      <td>20</td>\n",
       "      <td>ラッタ</td>\n",
       "      <td>127</td>\n",
       "      <td>118.0</td>\n",
       "      <td>99.0</td>\n",
       "      <td>46.0</td>\n",
       "      <td>normal</td>\n",
       "      <td>monster</td>\n",
       "      <td>1</td>\n",
       "    </tr>\n",
       "    <tr>\n",
       "      <th>997</th>\n",
       "      <td>215</td>\n",
       "      <td>ニューラ</td>\n",
       "      <td>60</td>\n",
       "      <td>102.0</td>\n",
       "      <td>41.0</td>\n",
       "      <td>44.0</td>\n",
       "      <td>normal</td>\n",
       "      <td>monster</td>\n",
       "      <td>3</td>\n",
       "    </tr>\n",
       "    <tr>\n",
       "      <th>998</th>\n",
       "      <td>216</td>\n",
       "      <td>ヒメグマ</td>\n",
       "      <td>120</td>\n",
       "      <td>63.0</td>\n",
       "      <td>23.0</td>\n",
       "      <td>23.0</td>\n",
       "      <td>normal</td>\n",
       "      <td>monster</td>\n",
       "      <td>4</td>\n",
       "    </tr>\n",
       "    <tr>\n",
       "      <th>999</th>\n",
       "      <td>48</td>\n",
       "      <td>コンパン</td>\n",
       "      <td>190</td>\n",
       "      <td>108.0</td>\n",
       "      <td>90.0</td>\n",
       "      <td>40.0</td>\n",
       "      <td>normal</td>\n",
       "      <td>monster</td>\n",
       "      <td>3</td>\n",
       "    </tr>\n",
       "  </tbody>\n",
       "</table>\n",
       "<p>1000 rows × 9 columns</p>\n",
       "</div>"
      ],
      "text/plain": [
       "      id   name  rarity  hp_max    hp  level   state     ball  n_balls\n",
       "0    205  フォレトス      75    90.0  53.0   29.0  normal    super        3\n",
       "1    217   リングマ      60    80.0  44.0   23.0  normal  monster        4\n",
       "2    219  マグカルゴ      75   162.0  60.0   68.0  normal  monster        2\n",
       "3    120  ヒトデマン     225    70.0  44.0   32.0    burn  monster        2\n",
       "4    224   オクタン      75    86.0  31.0   30.0  normal  monster        2\n",
       "..   ...    ...     ...     ...   ...    ...     ...      ...      ...\n",
       "995  185  ウソッキー      65   108.0  17.0   38.0  freeze  monster        5\n",
       "996   20    ラッタ     127   118.0  99.0   46.0  normal  monster        1\n",
       "997  215   ニューラ      60   102.0  41.0   44.0  normal  monster        3\n",
       "998  216   ヒメグマ     120    63.0  23.0   23.0  normal  monster        4\n",
       "999   48   コンパン     190   108.0  90.0   40.0  normal  monster        3\n",
       "\n",
       "[1000 rows x 9 columns]"
      ]
     },
     "execution_count": 13,
     "metadata": {},
     "output_type": "execute_result"
    }
   ],
   "source": [
    "df"
   ]
  },
  {
   "cell_type": "markdown",
   "metadata": {},
   "source": [
    "## 4. 有意差検定(t-test)"
   ]
  },
  {
   "cell_type": "code",
   "execution_count": 14,
   "metadata": {},
   "outputs": [
    {
     "data": {
      "text/html": [
       "<div>\n",
       "<style scoped>\n",
       "    .dataframe tbody tr th:only-of-type {\n",
       "        vertical-align: middle;\n",
       "    }\n",
       "\n",
       "    .dataframe tbody tr th {\n",
       "        vertical-align: top;\n",
       "    }\n",
       "\n",
       "    .dataframe thead tr th {\n",
       "        text-align: left;\n",
       "    }\n",
       "\n",
       "    .dataframe thead tr:last-of-type th {\n",
       "        text-align: right;\n",
       "    }\n",
       "</style>\n",
       "<table border=\"1\" class=\"dataframe\">\n",
       "  <thead>\n",
       "    <tr>\n",
       "      <th></th>\n",
       "      <th colspan=\"2\" halign=\"left\">n_balls</th>\n",
       "    </tr>\n",
       "    <tr>\n",
       "      <th></th>\n",
       "      <th>mean</th>\n",
       "      <th>std</th>\n",
       "    </tr>\n",
       "    <tr>\n",
       "      <th>ball</th>\n",
       "      <th></th>\n",
       "      <th></th>\n",
       "    </tr>\n",
       "  </thead>\n",
       "  <tbody>\n",
       "    <tr>\n",
       "      <th>monster</th>\n",
       "      <td>6.000000</td>\n",
       "      <td>17.328554</td>\n",
       "    </tr>\n",
       "    <tr>\n",
       "      <th>super</th>\n",
       "      <td>4.917051</td>\n",
       "      <td>13.741076</td>\n",
       "    </tr>\n",
       "  </tbody>\n",
       "</table>\n",
       "</div>"
      ],
      "text/plain": [
       "          n_balls           \n",
       "             mean        std\n",
       "ball                        \n",
       "monster  6.000000  17.328554\n",
       "super    4.917051  13.741076"
      ]
     },
     "execution_count": 14,
     "metadata": {},
     "output_type": "execute_result"
    }
   ],
   "source": [
    "(df.groupby('ball')\n",
    " .agg(['mean', 'std'])\n",
    " .loc[:,pd.IndexSlice[['n_balls'],['mean', 'std']]]\n",
    ")"
   ]
  },
  {
   "cell_type": "code",
   "execution_count": 15,
   "metadata": {},
   "outputs": [
    {
     "data": {
      "text/plain": [
       "ball\n",
       "monster    783\n",
       "super      217\n",
       "Name: n_balls, dtype: int64"
      ]
     },
     "execution_count": 15,
     "metadata": {},
     "output_type": "execute_result"
    }
   ],
   "source": [
    "(df.groupby('ball')\n",
    " .count()\n",
    " .loc[:,'n_balls']\n",
    ")"
   ]
  },
  {
   "cell_type": "markdown",
   "metadata": {},
   "source": [
    "モンスターボールを使った場合、平均的に6個のボールを消費するのに対し、スーパーボールは5個くらいという結果になった。スーパーボールの方がモンスターボールより平均的に捕獲にかかる数が一つ少ないようだが。オーキド博士は早速今回の結果が信頼できる値なのか、統計的仮説検定を使って検証することにした。\n",
    "\n",
    "#### 仮定\n",
    "「モンスターボールを使ってポケモンを捕まえるのに使うボールの個数」を表す確率変数を$Y_{monster}$、「スーパーボールを使ってポケモンを捕まえるのに使うボールの個数」を表す確率変数を$Y_{super}$とおき、$Y_{monster},Y_{super}$がそれぞれ平均$\\mu_{monster},\\mu_{super}$分散が一定の$\\sigma$の正規分布に従うとする。(とんでもない仮説だ...)\n",
    "\n",
    "**帰無仮説と対立仮説**: $H_0$: $\\mu_{monster}=\\mu_{super}$, $H_1$: $\\mu_{monster} < \\mu_{super}$\n",
    "\n",
    "**有意水準**: $\\alpha=0.05$\n",
    "$$s^2_{monster} = \\frac{1}{m-1}\\sum_{i=1}^m(Y_{i, monster} - \\bar{Y_{monster}})$$\n",
    "$$s^2_{super} = \\frac{1}{n-1}\\sum_{j=1}^n(Y_{i, super} - \\bar{Y_{super}})$$\n",
    "\n",
    "ただし、ここで$\\bar{Y_{monster}}$と$\\bar{Y_{super}}$それぞれ$Y_{monster}$と$Y_{super}$の標本平均である。また、\n",
    "\n",
    "$$s^2 = \\frac{1}{m+n-2}\\left((m-1)s^2_{monster}+(n-1)s^2_{super}\\right)$$\n",
    "\n",
    "このとき、\n",
    "$$\\frac{(Y_{monster} - Y_{super}) - (\\mu_{monster}-\\mu_{super})}{\\sqrt{s^2\\left(\\frac{1}{m} + \\frac{1}{n}\\right)}}$$\n",
    "\n",
    "は、自由度$m+n-2$の$t$分布に従うことは統計学で嫌なくらい学んできた。ここからtest-statisticsとそれに対するp-valueを出すわけだが、そこらへんは計算が得意のPython先輩にお願いする。\n",
    "\n",
    "**Python Note**: We can perform t-test using `scipy.stats.ttest_ind`. It takes to arrays corresponding to the 2 individual samples and returns the calculated t-statistic and the p-value. "
   ]
  },
  {
   "cell_type": "code",
   "execution_count": 16,
   "metadata": {},
   "outputs": [],
   "source": [
    "from scipy.stats import ttest_ind"
   ]
  },
  {
   "cell_type": "code",
   "execution_count": 17,
   "metadata": {},
   "outputs": [
    {
     "data": {
      "text/plain": [
       "Ttest_indResult(statistic=0.8494592799934234, pvalue=0.3958294994998969)"
      ]
     },
     "execution_count": 17,
     "metadata": {},
     "output_type": "execute_result"
    }
   ],
   "source": [
    "monster = np.ravel(\n",
    "    (df.set_index(['ball'])\n",
    "     .loc[['monster'],['n_balls']]\n",
    "     .values.T\n",
    "    ))\n",
    "\n",
    "_super = np.ravel(\n",
    "    (df.set_index(['ball'])\n",
    "     .loc[['super'],['n_balls']]\n",
    "     .values.T\n",
    "    ))\n",
    "\n",
    "ttest_ind(monster, _super)"
   ]
  },
  {
   "cell_type": "markdown",
   "metadata": {},
   "source": [
    "$p_{value}=0.3958$となり$p_{value}>\\alpha=0.05$となったため帰無仮説を放棄できず、どちらの性能が良いとも言えない結果になった。ちなみに仮定では分散を一定としたが、結果をみる限り分散が一定と仮定するのは正しいとは言えないので、分散を一定と仮定するStudent's t-testではなく、Welch's t-testを使うと結果が以下の様になり、同様に帰無仮説を放棄できないという結論に至る。"
   ]
  },
  {
   "cell_type": "code",
   "execution_count": 18,
   "metadata": {},
   "outputs": [
    {
     "data": {
      "text/plain": [
       "Ttest_indResult(statistic=0.9672186436922757, pvalue=0.3339841348969268)"
      ]
     },
     "execution_count": 18,
     "metadata": {},
     "output_type": "execute_result"
    }
   ],
   "source": [
    "ttest_ind(monster, _super, equal_var=False)"
   ]
  },
  {
   "cell_type": "markdown",
   "metadata": {},
   "source": [
    "600円かかるスーパーボールが200円かかるモンスターボールと対して差が無いじゃないか！ぼったくりじゃないか！と言うクレームが聞こえてきそうですね。"
   ]
  },
  {
   "cell_type": "markdown",
   "metadata": {},
   "source": [
    "## 5. 交絡因子の存在\n",
    "この結果に違和感があったオーキド博士は、データを提供してくれたトレーナーたちに聞き取り調査を行いました。その結果、「捕まえやすそうなポケモンにはモンスターボールを使い、捕まえにくそうなポケモンにはスーパーボールを使っている」ということがわかりました。スーパーボールを節約しながら必要な場面でだけ使いたいトレーナーとしては、納得の行動原理です。- [「ポケモンを題材に因果推論を実践してみる」](https://tepppei.hatenablog.com/entry/2020/05/05/113514)より。\n",
    "\n",
    "まず、「捕まえやすさ」と「レベル」がどの様な関係になっているかを、ボールの種類別に色分けしてKernel Density Plot(別にこれじゃなくて良い。カッコイイから使いたかっただけ)を作ってみた。"
   ]
  },
  {
   "cell_type": "code",
   "execution_count": 19,
   "metadata": {},
   "outputs": [
    {
     "data": {
      "image/png": "[encoded data removed]",
      "text/plain": [
       "<Figure size 1600x800 with 2 Axes>"
      ]
     },
     "metadata": {},
     "output_type": "display_data"
    }
   ],
   "source": [
    "df_copy = df.copy()\n",
    "df_copy['ease'] = 255 - df_copy['rarity']\n",
    "df_copy = df_copy.set_index('ball')\n",
    "df_monster = df_copy.loc[['monster'],['ease', 'level']]\n",
    "df_super = df_copy.loc[['super'],['ease', 'level']]\n",
    "plt.figure(figsize=(16,8), dpi=100)\n",
    "\n",
    "plt.subplot(121)\n",
    "sns.kdeplot(df_monster.ease, df_monster.level, cmap='Blues', shade=True, shade_lowest=False)\n",
    "plt.xlim(0, 300)\n",
    "plt.ylim(0, 70)\n",
    "plt.title('Monster Ball')\n",
    "plt.xlabel('Ease of Catching')\n",
    "\n",
    "plt.subplot(122)\n",
    "sns.kdeplot(df_super.ease, df_super.level, cmap='Reds', shade=True, shade_lowest=False)\n",
    "plt.xlim(0, 300)\n",
    "plt.ylim(0, 70)\n",
    "plt.title('Super Ball')\n",
    "plt.xlabel('Ease of Catching')\n",
    "\n",
    "plt.show()"
   ]
  },
  {
   "cell_type": "markdown",
   "metadata": {},
   "source": [
    "横軸がレア度から算出された「ポケモンの捕まえやすさ」を表す軸でこらが大きいほど捕まえやすいことを表す。縦軸がレベルである。この二つのグラフはモンスターボールとスーパーボールがそれぞれどの様な場面で利用されるのかを可視化している。モンスターボールは幅広く使われているのに対して、スーパーボールは比較的捕まえずらいポケモンに集中して使われていることがわかる。あまり顕著では無いが、レベルに関しても同じことが言える。幅広いレベルのポケモンを捕まえるのに使われているモンスターボールと比べてスーパーボールが使われるのはレベルが高いポケモンの集中しているように見える。"
   ]
  },
  {
   "cell_type": "code",
   "execution_count": 20,
   "metadata": {},
   "outputs": [
    {
     "data": {
      "image/png": "[encoded data removed]",
      "text/plain": [
       "<Figure size 1200x800 with 2 Axes>"
      ]
     },
     "metadata": {},
     "output_type": "display_data"
    }
   ],
   "source": [
    "df_copy = df_copy.reset_index()\n",
    "\n",
    "plt.figure(figsize=(12,8), dpi=100)\n",
    "\n",
    "plt.subplot(121)\n",
    "sns.scatterplot('ease', 'n_balls', hue='ball', alpha=0.7, data=df_copy)\n",
    "plt.ylabel('Number of Balls Used')\n",
    "plt.xlabel('Ease of Catching')\n",
    "\n",
    "plt.subplot(122)\n",
    "sns.scatterplot('level', 'n_balls', hue='ball', alpha=0.7, data=df_copy)\n",
    "plt.ylabel('Number of Balls Used')\n",
    "plt.xlabel('Level')\n",
    "plt.show()"
   ]
  },
  {
   "cell_type": "markdown",
   "metadata": {},
   "source": [
    "左手のグラフは「捕まえやすさ」と「捕獲に使ったボールの数」に対し、右手のグラフは「レベル」と「捕獲に使われたボールの数」の散布図である。左側のグラフから、明らかに捕まえずらいポケモンに対してスーパーボールが多く使われていることがわかる。\n",
    "\n",
    "これらのグラフから、「ポケモンの捕まえやすさ」(独立変数)は、「どのボールを使うか」(独立変数)と「捕獲に使ったボールの数」(従属変数)の両方に影響を与えている事がわかった。このような統計モデルにおける従属変数と独立変数の両方に相関する変数のことを**交絡因子(Confounding Factor)**と言う。これを無視したまま、効果検証を行うと、実際の効果と違う結果がでてしまう。今回の場合も、捕まえずらいポケモンに対して多く使われるスーパーボールは明らかにモンスターボールに比べて不利な戦いを強いられていることがわかる。\n",
    "\n",
    "そこでオーキド博士は線形重回帰を用いたモデル化を行い、「ポケモンのつかまえやすさ」の影響を取り除いたうえで、改めて「スーパーボールは本当にモンスターボールより捕まえやすいのか？」という仮説を検証することにしました。-- [「ポケモンを題材に因果推論を実践してみる」](https://tepppei.hatenablog.com/entry/2020/05/05/113514)より"
   ]
  },
  {
   "cell_type": "markdown",
   "metadata": {},
   "source": [
    "## 6. 線形重回帰によるモデル化\n",
    "データの数とNとし、「ポケモンの捕まえやすさ」を表す確率変数を$X_1, X_2, ..., X_N$、「どのボールを使ったか(スーパーボールなら1、モンスターボールなら0)」を表す確率変数を$Z_1, Z_2, ..., Z_N$、「ポケモンを捕まえるのにあたって使ったボールの数」を表す確率変数を$Y_1, Y_2, ..., Y_N$とする。$X,Y,Z$には次のような関係がある。\n",
    "\n",
    "\\begin{equation}\n",
    "Y=\\mathbf{X}\\beta+\\epsilon\n",
    "\\end{equation}\n",
    "\n",
    "ここで、$\\mathbf{X}$はDesign Matrixと呼ばれ、$N\\times3$の行列で、1列目は$(1,1,...,1)^T$、2列目は$(X_1,X_2,...,X_N)^T$、3列目は$(Z_1,Z_2,...,Z_N)^T$である。また$\\beta$は3次元ベクトル$\\beta_0,\\beta_1,\\beta_2$とする。$\\epsilon$は誤差項と呼ばれるN次元の確率変数で、$\\epsilon$を$\\mathbf{X}$で条件づけた分布は、平均0・各要素の分散が$\\sigma^2$で各要素が無相間のN次元正規分布に従うと仮定する。ちなみに、もし被説明変数である$Y$に影響を与える変数がが制御されていない場合、その効果は$\\epsilon$に含まれることになってしまい、この仮定が成り立たなくなってしまう。この時上記の式の条件付き期待値をとると、\n",
    "\n",
    "$$E[Y|\\mathbf{X}] = \\mathbf{X}\\beta$$\n",
    "\n",
    "となる事がわかり、この式はXを固定した時のYの期待値を線形のモデルとしてモデリングを行っている。これは線形回帰分析の授業で習った。私たちは最小二乗法(Ordinary Least Squares)を使って真のパラメータ$\\beta$を推定した$\\hat\\beta$を得る事ができます。では、早速Pythonでやってみよう。\n",
    "\n",
    "Pythonで線形回帰分析を行う方法はいくつかあるが、計量経済学で因果推論をする時は`Statsmodels`ライブラリを使う方がいいと思う。と言うのも、この後でわかるように、パラメーターの平均や標準偏差、$R^2$など様々な結果を全てわかりやすく表示してくれるからだ。また、`statsmodels.formula.api`にはRで使われるような変数指定の表現ができるため、簡単に使えるのも一つの魅力である。"
   ]
  },
  {
   "cell_type": "code",
   "execution_count": 21,
   "metadata": {},
   "outputs": [],
   "source": [
    "import statsmodels.api as sm\n",
    "import statsmodels.formula.api as smf"
   ]
  },
  {
   "cell_type": "code",
   "execution_count": 22,
   "metadata": {},
   "outputs": [
    {
     "name": "stdout",
     "output_type": "stream",
     "text": [
      "                            OLS Regression Results                            \n",
      "==============================================================================\n",
      "Dep. Variable:                n_balls   R-squared:                       0.075\n",
      "Model:                            OLS   Adj. R-squared:                  0.073\n",
      "Method:                 Least Squares   F-statistic:                     40.33\n",
      "Date:                Mon, 11 May 2020   Prob (F-statistic):           1.43e-17\n",
      "Time:                        13:37:07   Log-Likelihood:                -4189.9\n",
      "No. Observations:                1000   AIC:                             8386.\n",
      "Df Residuals:                     997   BIC:                             8400.\n",
      "Df Model:                           2                                         \n",
      "Covariance Type:            nonrobust                                         \n",
      "=================================================================================\n",
      "                    coef    std err          t      P>|t|      [0.025      0.975]\n",
      "---------------------------------------------------------------------------------\n",
      "Intercept        13.1496      0.983     13.374      0.000      11.220      15.079\n",
      "ball[T.super]    -4.4594      1.284     -3.473      0.001      -6.979      -1.939\n",
      "rarity           -0.0606      0.007     -8.938      0.000      -0.074      -0.047\n",
      "==============================================================================\n",
      "Omnibus:                     1654.747   Durbin-Watson:                   2.040\n",
      "Prob(Omnibus):                  0.000   Jarque-Bera (JB):           857082.431\n",
      "Skew:                          10.472   Prob(JB):                         0.00\n",
      "Kurtosis:                     144.885   Cond. No.                         370.\n",
      "==============================================================================\n",
      "\n",
      "Warnings:\n",
      "[1] Standard Errors assume that the covariance matrix of the errors is correctly specified.\n"
     ]
    }
   ],
   "source": [
    "results = smf.ols('n_balls ~ rarity + ball', data=df).fit()\n",
    "print(results.summary())"
   ]
  },
  {
   "cell_type": "markdown",
   "metadata": {},
   "source": [
    "上の表は、OLSによる結果をまとめたものである。私たちが注目したいのは回帰係数$\\beta$に関する様々な情報ををまとめた上から二つめのテーブル。その中で見るのは`ball[T.super]`の一行である。coefの値が$-4.95$になっているのがわかる。これは\n",
    "\n",
    "**「その他の全ての変数を固定したとき、スーパーボールを使った場合、モンスターボールを使った時と比べて、使用するボールの個数が平均的に-4.45個減少する」**\n",
    "\n",
    "ことを意味する。また、最後の三つの値は$\\beta = 0$を帰無仮説としたのt-検定のtest statistic、p-value、そして95%信頼区間である。この95%信頼区間に0が含まれていないことから、\n",
    "\n",
    "**「その他全ての変数を固定したとき95%の有意水準でスーパーボールはモンスターボールよりポケモンを捕まえやすく、平均的に節約できるボールの数は2から7個の間にある」**\n",
    "\n",
    "と言うふうに解釈することができる。これによって、スーパーボールはモンスターボールよりポケモンを捕まえやすいと言うことが統計的に示せた。"
   ]
  },
  {
   "cell_type": "markdown",
   "metadata": {},
   "source": [
    "## 7. 欠落変数によるバイアス\n",
    "しかしオーキド博士はまた考えた。「ポケモンの捕まえやすさは本当にレア度だけに依存するのか？」と。そしてこないだサトシにお願いしてロケット団から「ゲットだぜ！(盗んだ)」した論文を思い出した。論文にはポケモンに様々なポケモン実験(動物実験???)をした結果、HPが低いほど、そして麻痺、眠り、毒、火傷などといった状態異常になっていた時の方が捕まえやすいと書いてあった。オーキド博士は回帰モデルにポケモンの体力とステータスを含めなかったことによって**欠落変数バイアス**が生じているのではないかと考えた。\n",
    "\n",
    "例えば、推定すべき回帰モデルが、\n",
    "\n",
    "$$Y = \\beta_0 + \\beta_{1}X + \\beta_{2}Z +  \\epsilon$$\n",
    "\n",
    "だったとする。しかし、回帰モデルに$Z$を含めなかったとする。すると実際に推定する事ができる回帰モデルは\n",
    "\n",
    "$$Y = \\beta_0 + \\beta_{1}X + V$$\n",
    "$$V = \\beta_{2}Z + \\epsilon$$\n",
    "\n",
    "ここで、\n",
    "$$\\hat\\beta_{1} = \\frac {Cov(x_i, y_i)}{Var(x_i)} = \\frac{\\sum(x_i - \\bar{x})(y_i - \\bar{y})}{\\sum(x_i - \\bar{x})^2} \\\\\n",
    "= \\frac{\\sum(x_i-\\bar{x})y_i}{\\sum(x_i - \\bar{x})x_i}\n",
    "$$\n",
    "\n",
    "この式の$y_i$に、真のモデル$y_i = \\beta_0 + \\beta_1x_i + \\beta_2z_i+\\epsilon_i$を代入して整理すると、\n",
    "\n",
    "$$\\hat{\\beta_1}=\\beta_1 + \\beta_2\\frac{\\sum(x_i-\\bar{x})z_i}{\\sum(x_i-\\bar{x})x_i}+\\frac{\\sum(x_i-\\bar{x})\\epsilon_i}{\\sum(x_i-\\bar{x})x_i}$$\n",
    "\n",
    "そして期待値をとると、\n",
    "$$E[\\hat\\beta|X] = \\beta_1 + \\beta_2\\rho$$ \n",
    "\n",
    "となる事がわかり、真の$\\beta_1$に$\\beta_2\\rho$のバイアスが足されていることがわかる。ちなみに、$\\rho$は$\\hat\\beta_1$の式の第二項に着目すると、$Z$と$X$を回帰させた時のパラメーターであることがわかる。\n",
    "\n",
    "欠落変数のよるバイアスを取り除くために、オーキド博士はHPと状態異常のパラメーターを加えた再びOLSをしてみた。その結果が以下である。"
   ]
  },
  {
   "cell_type": "code",
   "execution_count": 23,
   "metadata": {},
   "outputs": [
    {
     "name": "stdout",
     "output_type": "stream",
     "text": [
      "                            OLS Regression Results                            \n",
      "==============================================================================\n",
      "Dep. Variable:                n_balls   R-squared:                       0.081\n",
      "Model:                            OLS   Adj. R-squared:                  0.074\n",
      "Method:                 Least Squares   F-statistic:                     10.91\n",
      "Date:                Mon, 11 May 2020   Prob (F-statistic):           7.90e-15\n",
      "Time:                        14:11:45   Log-Likelihood:                -4186.6\n",
      "No. Observations:                1000   AIC:                             8391.\n",
      "Df Residuals:                     991   BIC:                             8435.\n",
      "Df Model:                           8                                         \n",
      "Covariance Type:            nonrobust                                         \n",
      "======================================================================================\n",
      "                         coef    std err          t      P>|t|      [0.025      0.975]\n",
      "--------------------------------------------------------------------------------------\n",
      "Intercept              9.5747      2.707      3.537      0.000       4.262      14.887\n",
      "state[T.burn]          0.4791      3.607      0.133      0.894      -6.598       7.557\n",
      "state[T.freeze]        0.1944      3.658      0.053      0.958      -6.983       7.372\n",
      "state[T.normal]        3.4350      2.561      1.341      0.180      -1.591       8.461\n",
      "state[T.paralysis]     0.6597      3.514      0.188      0.851      -6.236       7.555\n",
      "state[T.poison]        0.7993      3.685      0.217      0.828      -6.432       8.031\n",
      "ball[T.super]         -4.6881      1.306     -3.590      0.000      -7.251      -2.126\n",
      "rarity                -0.0595      0.007     -8.719      0.000      -0.073      -0.046\n",
      "hp                     0.0157      0.016      0.990      0.323      -0.015       0.047\n",
      "==============================================================================\n",
      "Omnibus:                     1651.258   Durbin-Watson:                   2.054\n",
      "Prob(Omnibus):                  0.000   Jarque-Bera (JB):           849177.832\n",
      "Skew:                          10.428   Prob(JB):                         0.00\n",
      "Kurtosis:                     144.228   Cond. No.                     1.74e+03\n",
      "==============================================================================\n",
      "\n",
      "Warnings:\n",
      "[1] Standard Errors assume that the covariance matrix of the errors is correctly specified.\n",
      "[2] The condition number is large, 1.74e+03. This might indicate that there are\n",
      "strong multicollinearity or other numerical problems.\n"
     ]
    }
   ],
   "source": [
    "results = smf.ols('n_balls ~ rarity + state + hp + ball', data=df).fit()\n",
    "print(results.summary())"
   ]
  },
  {
   "cell_type": "markdown",
   "metadata": {},
   "source": [
    "各状態異常およびHPに関する回帰係数とそれに対するp値を見る限り、どうやら95%有意水準ではポケモンを捕まえるのに使用するボールの個数と統計的に有意な関係はないという結論に至った。そして使用したボールに関する回帰係数を見ても、他の変数を含めた前のモデルと比べて対して変化がない事がわかる。"
   ]
  },
  {
   "cell_type": "markdown",
   "metadata": {},
   "source": [
    "## 7. 頑健な標準誤差(Robust Standard Deviation)\n",
    "欠落変数によるバイアスがないとわかったオーキド博士はいよいよ研究を仕上げの段階に持っていこうとした。できるだけ正確にボールの種類によって生じる違いを推定するために、推定したモデルの**残差**に着目した。"
   ]
  },
  {
   "cell_type": "markdown",
   "metadata": {},
   "source": [
    "### 残差分布 \n",
    "線形回帰分析には、\n",
    "\n",
    "$$\\epsilon \\sim N(0, \\sigma^2) $$\n",
    "\n",
    "つまり、誤差項$\\epsilon$が平均0分散$\\sigma^2$一定の標準分布に従うという前提がある。この前提が満たされていないが誤差項の分散が不変だと仮定してパラメーター$\\beta$の標準偏差をすると正しい値を得られず、正しい信頼区間になってしまったり、最悪の場合統計的有意かどうかの判定も誤ってしまう可能性がある。そのため、残差項の分布をチェックしておく必要がある。"
   ]
  },
  {
   "cell_type": "code",
   "execution_count": 31,
   "metadata": {},
   "outputs": [
    {
     "data": {
      "image/png": "[encoded data removed]",
      "text/plain": [
       "<Figure size 800x400 with 1 Axes>"
      ]
     },
     "metadata": {},
     "output_type": "display_data"
    }
   ],
   "source": [
    "results = smf.ols('n_balls ~ rarity + ball', data=df).fit()\n",
    "errors = df.n_balls - results.predict()\n",
    "fig = plt.figure(figsize=(10,5), dpi=80)\n",
    "ax = fig.add_subplot(111)\n",
    "ax.scatter(df.rarity, errors)\n",
    "ax.set(xlabel = 'Rarity', ylabel='Errors')\n",
    "plt.show()"
   ]
  },
  {
   "cell_type": "markdown",
   "metadata": {},
   "source": [
    "上のグラフは「レア度」に対して「誤差」をプロットしたものである。明らかにレア度が変化すると分散も変化している事がわかる。つまり、分散が一定という前提は守られていないことになる。このようなときに使うのは**頑健な標準誤差**であり、`Statsmodels`では`get_robustcov_results()`メソッドを使うことによって、自動的に計算してくれる。"
   ]
  },
  {
   "cell_type": "code",
   "execution_count": 30,
   "metadata": {},
   "outputs": [
    {
     "name": "stdout",
     "output_type": "stream",
     "text": [
      "                            OLS Regression Results                            \n",
      "==============================================================================\n",
      "Dep. Variable:                n_balls   R-squared:                       0.075\n",
      "Model:                            OLS   Adj. R-squared:                  0.073\n",
      "Method:                 Least Squares   F-statistic:                     20.89\n",
      "Date:                Mon, 11 May 2020   Prob (F-statistic):           1.29e-09\n",
      "Time:                        14:36:44   Log-Likelihood:                -4189.9\n",
      "No. Observations:                1000   AIC:                             8386.\n",
      "Df Residuals:                     997   BIC:                             8400.\n",
      "Df Model:                           2                                         \n",
      "Covariance Type:                  HC1                                         \n",
      "=================================================================================\n",
      "                    coef    std err          t      P>|t|      [0.025      0.975]\n",
      "---------------------------------------------------------------------------------\n",
      "Intercept        13.1496      1.705      7.711      0.000       9.803      16.496\n",
      "ball[T.super]    -4.4594      1.362     -3.274      0.001      -7.132      -1.786\n",
      "rarity           -0.0606      0.010     -6.327      0.000      -0.079      -0.042\n",
      "==============================================================================\n",
      "Omnibus:                     1654.747   Durbin-Watson:                   2.040\n",
      "Prob(Omnibus):                  0.000   Jarque-Bera (JB):           857082.431\n",
      "Skew:                          10.472   Prob(JB):                         0.00\n",
      "Kurtosis:                     144.885   Cond. No.                         370.\n",
      "==============================================================================\n",
      "\n",
      "Warnings:\n",
      "[1] Standard Errors are heteroscedasticity robust (HC1)\n"
     ]
    }
   ],
   "source": [
    "robust_res = results.get_robustcov_results()\n",
    "print(robust_res.summary())"
   ]
  },
  {
   "cell_type": "markdown",
   "metadata": {},
   "source": [
    "上の表が頑健な標準誤差を利用して推定したボールの効果である。95%信頼区間の幅が以前と比べて少し広くなった事がわかる。オーキド博士はこの結果に満足して、**「スーパーボールはモンスターボールよりポケモンを捕まえやすい」**という結論を発表した。"
   ]
  },
  {
   "cell_type": "markdown",
   "metadata": {},
   "source": [
    "## 8. まとめ\n",
    "今回の分析は計量経済学の基本的な手法を勉強するのにあたって良いものとなった。自分でモデリングしてシミュレーションしているため、何が交絡因子なのか、欠落変数はあるのかなど事前に分かっていた。しかし、実際の場合こんな簡単にいくわけがない。また今回は基本的な線形重回帰モデルを利用したが、場合によってモデルが出す予想値がマイナスの値をとることがあるので、本当は適切でない(使用するボールの数が1を下回ることはないから)。ポアソン回帰などもう少し高度なモデルを使ったほうがより正しい効果を推定することができると考えられる。"
   ]
  }
 ],
 "metadata": {
  "kernelspec": {
   "display_name": "Python 3",
   "language": "python",
   "name": "python3"
  },
  "language_info": {
   "codemirror_mode": {
    "name": "ipython",
    "version": 3
   },
   "file_extension": ".py",
   "mimetype": "text/x-python",
   "name": "python",
   "nbconvert_exporter": "python",
   "pygments_lexer": "ipython3",
   "version": "3.7.6"
  }
 },
 "nbformat": 4,
 "nbformat_minor": 4
}
